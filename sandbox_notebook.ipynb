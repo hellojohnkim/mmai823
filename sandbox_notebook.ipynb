{
 "cells": [
  {
   "cell_type": "code",
   "execution_count": 1,
   "metadata": {},
   "outputs": [],
   "source": [
    "import yfinance as yf\n",
    "import pandas as pd\n",
    "import warnings\n",
    "import os\n",
    "warnings.filterwarnings(\"ignore\")"
   ]
  },
  {
   "cell_type": "code",
   "execution_count": 2,
   "metadata": {},
   "outputs": [],
   "source": [
    "\n",
    "amzn=yf.Ticker('AMZN')"
   ]
  },
  {
   "cell_type": "code",
   "execution_count": 11,
   "metadata": {},
   "outputs": [
    {
     "ename": "TypeError",
     "evalue": "'dict' object is not callable",
     "output_type": "error",
     "traceback": [
      "\u001b[0;31m---------------------------------------------------------------------------\u001b[0m",
      "\u001b[0;31mTypeError\u001b[0m                                 Traceback (most recent call last)",
      "Cell \u001b[0;32mIn[11], line 1\u001b[0m\n\u001b[0;32m----> 1\u001b[0m \u001b[43mamzn\u001b[49m\u001b[38;5;241;43m.\u001b[39;49m\u001b[43minfo\u001b[49m\u001b[43m(\u001b[49m\u001b[38;5;124;43m'\u001b[39;49m\u001b[38;5;124;43mlongBusinessSummary\u001b[39;49m\u001b[38;5;124;43m'\u001b[39;49m\u001b[43m)\u001b[49m\n\u001b[1;32m      2\u001b[0m description \u001b[38;5;241m=\u001b[39m stock_info\u001b[38;5;241m.\u001b[39mget(\u001b[38;5;124m'\u001b[39m\u001b[38;5;124mlongBusinessSummary\u001b[39m\u001b[38;5;124m'\u001b[39m, \u001b[38;5;28;01mNone\u001b[39;00m)\n",
      "\u001b[0;31mTypeError\u001b[0m: 'dict' object is not callable"
     ]
    }
   ],
   "source": [
    "amzn.info('longBusinessSummary')\n",
    "description = stock_info.get('longBusinessSummary', None)"
   ]
  },
  {
   "cell_type": "code",
   "execution_count": 12,
   "metadata": {},
   "outputs": [],
   "source": [
    "def get_stock_descriptions(tck_iem_cds):\n",
    "    descriptions = []\n",
    "\n",
    "    for tck_iem_cd in tck_iem_cds:\n",
    "        try:\n",
    "            # Ticker 객체 생성\n",
    "            ticker = yf.Ticker(tck_iem_cd)\n",
    "\n",
    "            # 종목 정보 가져오기\n",
    "            stock_info = ticker.info\n",
    "\n",
    "            # 'longBusinessSummary' 키에 해당하는 종목 description 정보 가져오기\n",
    "            description = stock_info.get('longBusinessSummary', None)\n",
    "\n",
    "            # 가져온 정보를 리스트에 추가\n",
    "            descriptions.append(description)\n",
    "        except Exception as e:\n",
    "            print(f\"Error fetching data for {tck_iem_cd}: {str(e)}\")\n",
    "            descriptions.append(None)\n",
    "\n",
    "    data = pd.DataFrame({'tck_iem_cd': tck_iem_cds, 'description': descriptions})\n",
    "\n",
    "    return data"
   ]
  }
 ],
 "metadata": {
  "kernelspec": {
   "display_name": "Python 3",
   "language": "python",
   "name": "python3"
  },
  "language_info": {
   "codemirror_mode": {
    "name": "ipython",
    "version": 3
   },
   "file_extension": ".py",
   "mimetype": "text/x-python",
   "name": "python",
   "nbconvert_exporter": "python",
   "pygments_lexer": "ipython3",
   "version": "3.11.3"
  }
 },
 "nbformat": 4,
 "nbformat_minor": 2
}
